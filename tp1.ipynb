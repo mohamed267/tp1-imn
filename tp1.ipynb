{
 "cells": [
  {
   "cell_type": "code",
   "execution_count": 18,
   "metadata": {},
   "outputs": [],
   "source": [
    "import cv2\n",
    "import numpy as np\n",
    "image = cv2.imread('test.jpg')\n",
    "cv2.namedWindow('image', cv2.WINDOW_NORMAL)\n",
    "cv2.imshow('image' , image)\n",
    "cv2.waitKey(0)\n",
    "cv2.destroyAllWindows()\n",
    "\n"
   ]
  },
  {
   "cell_type": "code",
   "execution_count": 19,
   "metadata": {},
   "outputs": [
    {
     "name": "stdout",
     "output_type": "stream",
     "text": [
      "(746, 1248, 3)\n"
     ]
    }
   ],
   "source": [
    "# dimension de l'image\n",
    "print(image.shape)"
   ]
  },
  {
   "attachments": {},
   "cell_type": "markdown",
   "metadata": {},
   "source": []
  },
  {
   "cell_type": "code",
   "execution_count": null,
   "metadata": {},
   "outputs": [],
   "source": [
    "\n",
    "\n",
    "b_image = np.copy(image[:,:,:])\n",
    "v_image = np.copy(image[:,:,:])\n",
    "r_image = np.copy(image[:,:,:])\n",
    "\n",
    "\n",
    "for line in b_image:\n",
    "    for column in line: \n",
    "        column[1] =0\n",
    "        column[2] = 0\n",
    "\n",
    "for line in v_image:\n",
    "    for column in line: \n",
    "        column[0] =0\n",
    "        column[2] = 0\n",
    "\n",
    "for line in r_image:\n",
    "    for column in line: \n",
    "        column[0] =0\n",
    "        column[1] = 0\n",
    "\n",
    "\n",
    "image\n",
    "\n",
    "\n",
    "cv2.namedWindow('image', cv2.WINDOW_NORMAL)\n",
    "cv2.imshow('image',b_image)\n",
    "cv2.waitKey(0)\n",
    "cv2.destroyAllWindows()\n",
    "\n",
    "cv2.namedWindow('image', cv2.WINDOW_NORMAL)\n",
    "cv2.imshow('image',v_image)\n",
    "cv2.waitKey(0)\n",
    "cv2.destroyAllWindows()\n",
    "\n",
    "\n",
    "cv2.namedWindow('image', cv2.WINDOW_NORMAL)\n",
    "cv2.imshow('image',r_image)\n",
    "cv2.waitKey(0)\n",
    "cv2.destroyAllWindows()\n"
   ]
  },
  {
   "attachments": {},
   "cell_type": "markdown",
   "metadata": {},
   "source": [
    "save as png"
   ]
  },
  {
   "cell_type": "code",
   "execution_count": 21,
   "metadata": {},
   "outputs": [
    {
     "data": {
      "text/plain": [
       "True"
      ]
     },
     "execution_count": 21,
     "metadata": {},
     "output_type": "execute_result"
    }
   ],
   "source": [
    "cv2.imwrite(\"test.png\", image)\n",
    "cv2.imwrite(\"test.tiff\", image)"
   ]
  },
  {
   "cell_type": "code",
   "execution_count": 27,
   "metadata": {},
   "outputs": [],
   "source": [
    "\n",
    "\n",
    "height, width , _  =  image.shape\n",
    "\n",
    "gray_image = np.zeros((height , width))\n",
    "\n",
    "\n",
    "for y in range(height):\n",
    "    for x in range(width):\n",
    "        b, g, r = image[y, x]\n",
    "        gray_image[y,x] = 0.298 * r+  0.587 * g + 0.114 * b\n",
    "\n",
    "\n",
    " \n",
    "cv2.namedWindow('image', cv2.WINDOW_NORMAL)\n",
    "cv2.imshow('image',gray_image)\n",
    "cv2.waitKey(0)\n",
    "cv2.destroyAllWindows()\n",
    "\n",
    "\n",
    "\n"
   ]
  },
  {
   "cell_type": "code",
   "execution_count": 36,
   "metadata": {},
   "outputs": [],
   "source": [
    "height, width  =  gray_image.shape\n",
    "\n",
    "b_image = np.zeros((height , width))\n",
    "\n",
    "\n",
    "for y in range(height):\n",
    "    for x in range(width):\n",
    "        gray = gray_image[y, x]\n",
    "        if gray > 150 :\n",
    "            b_image[y, x] = 255\n",
    "        else:\n",
    "            b_image[y, x]= 0\n",
    "\n",
    "\n",
    "\n",
    " \n",
    "cv2.namedWindow('image', cv2.WINDOW_NORMAL)\n",
    "cv2.imshow('image',b_image)\n",
    "cv2.waitKey(0)\n",
    "cv2.destroyAllWindows()"
   ]
  },
  {
   "attachments": {},
   "cell_type": "markdown",
   "metadata": {},
   "source": []
  },
  {
   "cell_type": "code",
   "execution_count": 37,
   "metadata": {},
   "outputs": [],
   "source": [
    "max_value = np.iinfo(image.dtype).max\n",
    "inverse_image = max_value - image\n",
    "\n",
    "cv2.namedWindow('image', cv2.WINDOW_NORMAL)\n",
    "cv2.imshow('image',inverse_image)\n",
    "cv2.waitKey(0)\n",
    "cv2.destroyAllWindows()"
   ]
  }
 ],
 "metadata": {
  "kernelspec": {
   "display_name": "Python 3",
   "language": "python",
   "name": "python3"
  },
  "language_info": {
   "codemirror_mode": {
    "name": "ipython",
    "version": 3
   },
   "file_extension": ".py",
   "mimetype": "text/x-python",
   "name": "python",
   "nbconvert_exporter": "python",
   "pygments_lexer": "ipython3",
   "version": "3.10.7"
  },
  "orig_nbformat": 4
 },
 "nbformat": 4,
 "nbformat_minor": 2
}
